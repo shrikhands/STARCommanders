{
  "cells": [
    {
      "cell_type": "code",
      "source": [
        "!pip install pdfminer.six"
      ],
      "metadata": {
        "colab": {
          "base_uri": "https://localhost:8080/"
        },
        "id": "nFG1hCMskwuY",
        "outputId": "e25833af-85c7-4758-c7d7-0a307e0780fb"
      },
      "execution_count": null,
      "outputs": [
        {
          "output_type": "stream",
          "name": "stdout",
          "text": [
            "Collecting pdfminer.six\n",
            "  Downloading pdfminer.six-20221105-py3-none-any.whl (5.6 MB)\n",
            "\u001b[2K     \u001b[90m━━━━━━━━━━━━━━━━━━━━━━━━━━━━━━━━━━━━━━━━\u001b[0m \u001b[32m5.6/5.6 MB\u001b[0m \u001b[31m37.0 MB/s\u001b[0m eta \u001b[36m0:00:00\u001b[0m\n",
            "\u001b[?25hRequirement already satisfied: charset-normalizer>=2.0.0 in /usr/local/lib/python3.10/dist-packages (from pdfminer.six) (3.3.0)\n",
            "Requirement already satisfied: cryptography>=36.0.0 in /usr/local/lib/python3.10/dist-packages (from pdfminer.six) (41.0.4)\n",
            "Requirement already satisfied: cffi>=1.12 in /usr/local/lib/python3.10/dist-packages (from cryptography>=36.0.0->pdfminer.six) (1.16.0)\n",
            "Requirement already satisfied: pycparser in /usr/local/lib/python3.10/dist-packages (from cffi>=1.12->cryptography>=36.0.0->pdfminer.six) (2.21)\n",
            "Installing collected packages: pdfminer.six\n",
            "Successfully installed pdfminer.six-20221105\n"
          ]
        }
      ]
    },
    {
      "cell_type": "code",
      "source": [
        "from pdfminer.high_level import extract_text\n",
        "import re\n",
        "import os\n",
        "for filename in os.listdir(\"standard\"):\n",
        "  text = extract_text(f\"standard/{filename}\",page_numbers=[0])\n",
        "  texts = text.split(\"\\n\")\n",
        "  texts = [te.strip() for te in texts]\n",
        "  for x in range(texts.count('')):\n",
        "      texts.remove('')\n",
        "  for x in range(texts.count(' ')):\n",
        "      texts.remove(' ')\n",
        "  dic = {\"Title\": None,\n",
        "        \"Document Number\": None,\n",
        "        \"Version\": \"Baseline\",\n",
        "        \"Document Date\": None,\n",
        "        \"Measurment System\": None,\n",
        "        \"Change Number\": \"0\",\n",
        "         \"Revalidated\": False}\n",
        "  title = \"\"\n",
        "  removes = ['NASA TECHNICAL','REVALIDATED','STANDARD','NASA TECHNICAL STANDARD','National Aeronautics and Space Administration',\"MEASUREMENT SYSTEM IDENTIFICATION:\"]\n",
        "  for remove in removes:\n",
        "    if remove in texts:\n",
        "      texts.remove(remove)\n",
        "  for i in range(len(texts)):\n",
        "    if (re.match(\"NASA-\", texts[i])):\n",
        "      doc_num_span = re.search(r'\\w+-\\w+-[0-9.H-Z]', texts[i]).span()\n",
        "      dic[\"Document Number\"] = texts[i][doc_num_span[0]:doc_num_span[1]]\n",
        "      if len(texts[i]) > doc_num_span[1]:\n",
        "        dic[\"Version\"] = texts[i][doc_num_span[1]:]\n",
        "    elif (re.match(\"(METRIC|SI)\",texts[i])):\n",
        "      dic[\"Measurment System\"] = texts[i]\n",
        "    elif re.search(\"w/CHANGE\",texts[i]):\n",
        "      dic[\"Version\"] += \" \" + texts[i]\n",
        "      dic[\"Change Number\"] = texts[i][len(texts[i]) - 2]\n",
        "    elif (re.match(\"Approved:\",texts[i])):\n",
        "      dic[\"Document Date\"] = texts[i].strip(\"Approved: \")\n",
        "    elif re.match(\"APPROVED\",texts[i]):\n",
        "      pass\n",
        "    elif re.match(r\"[A-Z]{2,}\",texts[i]):\n",
        "      title += \" \" + texts[i]\n",
        "  dic[\"Title\"] = title\n",
        "  print(dic)"
      ],
      "metadata": {
        "colab": {
          "base_uri": "https://localhost:8080/"
        },
        "id": "ofjzdh2GQ5c5",
        "outputId": "ec27154c-86bd-4e8d-d3af-52eaa0afbdcf"
      },
      "execution_count": 124,
      "outputs": [
        {
          "output_type": "stream",
          "name": "stdout",
          "text": [
            "{'Title': ' STANDARD FOR THE DESIGN AND FABRICATION OF GROUND SUPPORT EQUIPMENT', 'Document Number': 'NASA-STD-5', 'Version': '005D w/CHANGE 1:', 'Document Date': '06-14-2013', 'Measurment System': 'METRIC/SI (ENGLISH)', 'Change Number': '1', 'Revalidated': False}\n",
            "{'Title': ' STRENGTH DESIGN AND VERIFICATION CRITERIA FOR GLASS, CERAMICS, AND WINDOWS IN HUMAN SPACE FLIGHT APPLICATIONS', 'Document Number': 'NASA-STD-5', 'Version': '018 w/CHANGE 1:', 'Document Date': '08-12-2011', 'Measurment System': 'METRIC/SI (ENGLISH)', 'Change Number': '1', 'Revalidated': False}\n",
            "{'Title': ' IMPLEMENTING PLANETARY PROTECTION REQUIREMENTS FOR SPACE FLIGHT', 'Document Number': 'NASA-STD-8', 'Version': '719.27', 'Document Date': '2022-08-30', 'Measurment System': None, 'Change Number': '0', 'Revalidated': False}\n"
          ]
        }
      ]
    }
  ],
  "metadata": {
    "colab": {
      "provenance": []
    },
    "kernelspec": {
      "display_name": "Python 3",
      "name": "python3"
    },
    "language_info": {
      "name": "python"
    }
  },
  "nbformat": 4,
  "nbformat_minor": 0
}